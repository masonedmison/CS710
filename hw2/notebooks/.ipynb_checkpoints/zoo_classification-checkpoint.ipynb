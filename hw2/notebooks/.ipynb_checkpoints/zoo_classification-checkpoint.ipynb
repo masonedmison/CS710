{
 "cells": [
  {
   "cell_type": "markdown",
   "metadata": {},
   "source": [
    "# Homework 2 Question 2"
   ]
  },
  {
   "cell_type": "code",
   "execution_count": 161,
   "metadata": {},
   "outputs": [],
   "source": [
    "# dependencies\n",
    "import pandas as pd\n",
    "import numpy as np\n",
    "from collections import Counter, defaultdict\n",
    "from sklearn.tree import DecisionTreeClassifier\n",
    "from sklearn import tree\n",
    "from sklearn.metrics import accuracy_score\n",
    "from IPython.core.debugger import set_trace \n",
    "from IPython.display import Image\n",
    "from graphviz import Source\n",
    "import pydotplus"
   ]
  },
  {
   "cell_type": "markdown",
   "metadata": {},
   "source": [
    "## Data\n",
    "### Overview of training and testing data \n",
    " - Zoo data where zoo1 1 is multi_class classification and zoo2 is binary classification\n",
    " - test data are at indices `[91, 92, 93, 95, 97, 99]`\n",
    "### little processing conducted on data but:\n",
    " - column 1 has been dropped - animal name is irrelevant as each animal name is unique - point to one hot encode\n",
    " - labels in zoo1 have been factorized and seperated\n",
    " - train and test features are transformed to numpy matrices "
   ]
  },
  {
   "cell_type": "code",
   "execution_count": 162,
   "metadata": {},
   "outputs": [],
   "source": [
    "attributes = ['animal name','hair', 'feathers', 'eggs', 'milk', 'airborne', 'aquatic', 'predator', 'toothed',\n",
    "              'backbone', 'breathes','venomous','fins', 'legs', 'tail', 'domestic', 'catsize' ,'type']\n",
    "\n",
    "# data\n",
    "zoo1_df = pd.read_csv('/Users/MasonBaran/PycharmProjects/CS710/hw2/data/zoo1.csv', header=None) # 3 classes (str values)\n",
    "zoo2_df = pd.read_csv('/Users/MasonBaran/PycharmProjects/CS710/hw2/data/zoo2.csv', header=None) # 2 values (numberic)\n",
    "# drop animal col for both zoo1 and zoo2 (col_index 1) assuming they will not tell us much\n",
    "zoo1_df.drop(0, axis=1, inplace=True)\n",
    "zoo2_df.drop(0, axis=1, inplace=True)\n",
    "\n",
    "# seperate train and test sets\n",
    "test_indices = [91, 92, 93, 95, 97, 99]\n",
    "_,col_shape = zoo1_df.shape # length of column index - 1 == our label feature\n",
    "###############################################\n",
    "\n",
    "# factorize specicies labels - use global label_str to retrieve string using encoded label as index\n",
    "label_col = zoo1_df.iloc[:,col_shape-1]\n",
    "labels_encoded, label_str = label_col.factorize()\n",
    "zoo1_df.iloc[:,col_shape-1] = labels_encoded\n",
    "\n",
    "# zoo1\n",
    "    # training data\n",
    "zoo1_train = zoo1_df.drop(zoo1_df.index[test_indices])\n",
    "zoo1_train_labels = zoo1_train.iloc[:,col_shape-1]\n",
    "zoo1_train_features = zoo1_train.drop(col_shape, axis=1)\n",
    "    # testing data\n",
    "zoo1_test = zoo1_df.iloc[test_indices,:]\n",
    "zoo1_test_labels = zoo1_test.iloc[:,col_shape-1]\n",
    "zoo1_test_features = zoo1_test.drop(col_shape, axis=1)\n",
    "###############################################\n",
    "\n",
    "# zoo2\n",
    "    # training data\n",
    "zoo2_train = zoo2_df.drop(zoo1_df.index[test_indices])\n",
    "zoo2_train_labels = zoo2_train.iloc[:,col_shape-1]\n",
    "zoo2_train_features = zoo2_train.drop(col_shape-1, axis=1)\n",
    "# testing data\n",
    "zoo2_test = zoo2_df.iloc[test_indices,:]\n",
    "zoo2_test_labels = zoo2_test.iloc[:,col_shape-1]\n",
    "zoo2_test_features = zoo2_test.drop(col_shape-1, axis=1)\n",
    "\n",
    "# global numpy arrays to use for fitting and predicting\n",
    "Z1_train_features = zoo1_train_features.to_numpy()\n",
    "Z1_test_features = zoo1_test_features.to_numpy()\n",
    "\n",
    "Z2_train_features = zoo2_train_features.to_numpy()\n",
    "Z2_test_features = zoo2_test_features.to_numpy()"
   ]
  },
  {
   "cell_type": "markdown",
   "metadata": {},
   "source": [
    "## Naive Bayes implementation\n",
    "stripped down implementation without hyperparameters\n"
   ]
  },
  {
   "cell_type": "code",
   "execution_count": 163,
   "metadata": {},
   "outputs": [],
   "source": [
    "class NaiveBayes:\n",
    "    \"\"\"parameters: training features (as np array) and training labels (list of string values)\"\"\"\n",
    "\n",
    "    def __init__(self):\n",
    "        pass\n",
    "\n",
    "    def fit(self, X, y):\n",
    "        def occurrences(list1):\n",
    "            no_of_examples = len(list1)\n",
    "            prob = dict(Counter(list1))\n",
    "            for key in prob.keys():\n",
    "                prob[key] = prob[key] / float(no_of_examples)\n",
    "            return prob\n",
    "\n",
    "        self.classes = np.unique(y)\n",
    "        rows, cols = np.shape(X)\n",
    "        self.likelihoods = {}\n",
    "        for cls in self.classes:\n",
    "            self.likelihoods[cls] = defaultdict(list)\n",
    "        self.class_probabilities = occurrences(y)\n",
    "        for cls in self.classes:\n",
    "            row_indices = np.where(y == cls)[0]\n",
    "            subset = X[row_indices, :]\n",
    "            r, c = np.shape(subset)\n",
    "            for j in range(0, c):\n",
    "                self.likelihoods[cls][j] += list(subset[:, j])\n",
    "\n",
    "        for cls in self.classes:\n",
    "            for j in range(0, cols):\n",
    "                self.likelihoods[cls][j] = occurrences(self.likelihoods[cls][j])\n",
    "\n",
    "    def predict(self, sample):\n",
    "        results = {}\n",
    "        for cls in self.classes:\n",
    "            class_probability = self.class_probabilities[cls]\n",
    "            for i in range(0, len(sample)):\n",
    "                relative_values = self.likelihoods[cls][i]\n",
    "                if sample[i] in relative_values.keys():\n",
    "                    class_probability *= relative_values[sample[i]]\n",
    "                else:\n",
    "                    class_probability *= 0\n",
    "                results[cls] = class_probability\n",
    "        return max(results, key=lambda key: results[key])"
   ]
  },
  {
   "cell_type": "markdown",
   "metadata": {},
   "source": [
    "### helper method to print predicts of  a set of predictions"
   ]
  },
  {
   "cell_type": "code",
   "execution_count": 164,
   "metadata": {},
   "outputs": [],
   "source": [
    "def nb_predict_set(X_test,y_test, nb):\n",
    "    \"\"\"use global X, y from calling block...\"\"\"\n",
    "    print(f'[CLASSIFIER] Naive Bayes')\n",
    "    nb_predictions = []\n",
    "    for i, r in enumerate(X_test):\n",
    "        best = nb.predict(r)\n",
    "        nb_predictions.append(best)\n",
    "        print(f'Predicted animal is: {label_str[best]}')\n",
    "        print(f'Correct animal is: {label_str[y_test.iloc[i]]}')\n",
    "\n",
    "    print('-'*30)\n",
    "    return nb_predictions"
   ]
  },
  {
   "cell_type": "code",
   "execution_count": 165,
   "metadata": {},
   "outputs": [],
   "source": [
    "def dec_predict_set(dec_predictions, y_test):\n",
    "    print('[CLASSIFIER] Decision Tree')\n",
    "    print('-'*30)\n",
    "    for i, p in enumerate(d_tree_predictions):\n",
    "        print(f'Predicted animal is: {label_str[p]}')\n",
    "        print(f'Correct animal is: {label_str[y_test.iloc[i]]}')\n",
    "    print('-'*30)"
   ]
  },
  {
   "cell_type": "markdown",
   "metadata": {},
   "source": [
    "## Sci-kit Learn Decision Tree Implementation\n",
    "default criterion of `gini_impurity` is used to measure quality of split"
   ]
  },
  {
   "cell_type": "code",
   "execution_count": 166,
   "metadata": {},
   "outputs": [],
   "source": [
    "tree_clf = DecisionTreeClassifier()\n",
    "dec_tree = tree_clf.fit(Z1_train_features, zoo1_train_labels)"
   ]
  },
  {
   "cell_type": "markdown",
   "metadata": {},
   "source": [
    "## Tree Visualization\n",
    "A tree with max depth 8 "
   ]
  },
  {
   "cell_type": "code",
   "execution_count": 172,
   "metadata": {},
   "outputs": [
    {
     "data": {
      "text/plain": [
       "True"
      ]
     },
     "execution_count": 172,
     "metadata": {},
     "output_type": "execute_result"
    }
   ],
   "source": [
    "# display tree\n",
    "from IPython.display import SVG\n",
    "# graph = Source( tree.export_graphviz(dec_tree, out_file=None, feature_names=attributes[1:len(attributes)-1], rounded=True,\n",
    "#               class_names = label_str))\n",
    "# SVG(graph.pipe(format='svg'))\n",
    "\n",
    "dot_data = tree.export_graphviz(dec_tree, out_file=None, feature_names=attributes[1:len(attributes)-1], rounded=True,\n",
    "              class_names = label_str)\n",
    "\n",
    "graph = pydotplus.graph_from_dot_data(dot_data)  # draw \n",
    "\n",
    "graph.write_png(\"zoo_tree.png\") # save.png\n",
    "\n",
    "# Show graph\n",
    "Image(graph.create_png())"
   ]
  },
  {
   "cell_type": "markdown",
   "metadata": {},
   "source": [
    "# Predictions"
   ]
  },
  {
   "cell_type": "markdown",
   "metadata": {},
   "source": [
    "### Decision Tree zoo1"
   ]
  },
  {
   "cell_type": "code",
   "execution_count": 168,
   "metadata": {},
   "outputs": [
    {
     "name": "stdout",
     "output_type": "stream",
     "text": [
      "[CLASSIFIER] Decision Tree\n",
      "------------------------------\n",
      "Predicted animal is: reptile\n",
      "Correct animal is: reptile\n",
      "Predicted animal is: fish\n",
      "Correct animal is: fish\n",
      "Predicted animal is: mammal\n",
      "Correct animal is: mammal\n",
      "Predicted animal is: bird\n",
      "Correct animal is: bird\n",
      "Predicted animal is: insect\n",
      "Correct animal is: insect\n",
      "Predicted animal is: shellfish\n",
      "Correct animal is: shellfish\n",
      "------------------------------\n",
      "Accuracy score for Decision Tree 1.0\n"
     ]
    }
   ],
   "source": [
    "# predict and gauge accuracy on test test\n",
    "d_tree_predictions = tree_clf.predict(Z1_test_features)\n",
    "dec_predict_set(d_tree_predictions, zoo1_test_labels)\n",
    "print(f'Accuracy score for Decision Tree {accuracy_score(d_tree_predictions, zoo1_test_labels)}')"
   ]
  },
  {
   "cell_type": "markdown",
   "metadata": {},
   "source": [
    "### Naive Bayes zoo1"
   ]
  },
  {
   "cell_type": "code",
   "execution_count": 169,
   "metadata": {
    "scrolled": true
   },
   "outputs": [
    {
     "name": "stdout",
     "output_type": "stream",
     "text": [
      "[CLASSIFIER] Naive Bayes\n",
      "Predicted animal is: reptile\n",
      "Correct animal is: reptile\n",
      "Predicted animal is: fish\n",
      "Correct animal is: fish\n",
      "Predicted animal is: mammal\n",
      "Correct animal is: mammal\n",
      "Predicted animal is: bird\n",
      "Correct animal is: bird\n",
      "Predicted animal is: insect\n",
      "Correct animal is: insect\n",
      "Predicted animal is: shellfish\n",
      "Correct animal is: shellfish\n",
      "------------------------------\n",
      "Accuracy score for Decision Tree 1.0\n"
     ]
    }
   ],
   "source": [
    "nb = NaiveBayes()\n",
    "nb.fit(Z1_train_features, zoo1_train_labels)\n",
    "nb_predictions = nb_predict_set(Z1_test_features,zoo1_test_labels, nb)\n",
    "print(f'Accuracy score for Decision Tree {accuracy_score(zoo1_test_labels, nb_predictions)}')"
   ]
  },
  {
   "cell_type": "markdown",
   "metadata": {},
   "source": [
    "### Decision Tree zoo2"
   ]
  },
  {
   "cell_type": "code",
   "execution_count": 170,
   "metadata": {},
   "outputs": [
    {
     "name": "stdout",
     "output_type": "stream",
     "text": [
      "[CLASSIFIER] Decision Tree\n",
      "------------------------------\n",
      "Predicted animal is: reptile\n",
      "Correct animal is: mammal\n",
      "Predicted animal is: fish\n",
      "Correct animal is: mammal\n",
      "Predicted animal is: mammal\n",
      "Correct animal is: fish\n",
      "Predicted animal is: bird\n",
      "Correct animal is: mammal\n",
      "Predicted animal is: insect\n",
      "Correct animal is: mammal\n",
      "Predicted animal is: shellfish\n",
      "Correct animal is: mammal\n",
      "------------------------------\n",
      "Accuracy score for Decision Tree 1.0\n"
     ]
    }
   ],
   "source": [
    "tree_clf = DecisionTreeClassifier()\n",
    "dec_tree = tree_clf.fit(Z2_train_features, zoo2_train_labels)\n",
    "d_tree2_predictions = dec_tree.predict(Z2_test_features)\n",
    "dec_predict_set(d_tree2_predictions, zoo2_test_labels)\n",
    "print(f'Accuracy score for Decision Tree {accuracy_score(zoo2_test_labels, d_tree2_predictions)}')"
   ]
  },
  {
   "cell_type": "markdown",
   "metadata": {},
   "source": [
    "### Naive Bayes zoo2"
   ]
  },
  {
   "cell_type": "code",
   "execution_count": 171,
   "metadata": {},
   "outputs": [
    {
     "name": "stdout",
     "output_type": "stream",
     "text": [
      "[CLASSIFIER] Naive Bayes\n",
      "Predicted animal is: mammal\n",
      "Correct animal is: mammal\n",
      "Predicted animal is: mammal\n",
      "Correct animal is: mammal\n",
      "Predicted animal is: fish\n",
      "Correct animal is: fish\n",
      "Predicted animal is: mammal\n",
      "Correct animal is: mammal\n",
      "Predicted animal is: mammal\n",
      "Correct animal is: mammal\n",
      "Predicted animal is: mammal\n",
      "Correct animal is: mammal\n",
      "------------------------------\n",
      "Accuracy score for Decision Tree 1.0\n"
     ]
    }
   ],
   "source": [
    "nb = NaiveBayes()\n",
    "nb.fit(Z2_train_features, zoo2_train_labels)\n",
    "nb_predictions = nb_predict_set(Z2_test_features, zoo2_test_labels, nb)\n",
    "print(f'Accuracy score for Decision Tree {accuracy_score(zoo2_test_labels, nb_predictions)}')"
   ]
  },
  {
   "cell_type": "markdown",
   "metadata": {},
   "source": [
    "## Extra credit\n",
    "Run classifiers of features return from Genetic Algorithm \n",
    "#### Reduced features to test\n",
    "- \\# of features - 6, Sequence: `[3,8,10,11,12,14]`\n",
    "- \\# of features - 10, Sequence: `[3,4,5,8,9,10,11,12,14, 15]`\n",
    "- \\# of features - 15, Sequence: `[2,3,4,5,6,7,8,9,10,11,12,13,14,15]`\n",
    "- \\# of features - 17, Sequence: minimum features length is 17 since we drop `str(animal_name)`\n"
   ]
  }
 ],
 "metadata": {
  "kernelspec": {
   "display_name": "Python 3",
   "language": "python",
   "name": "python3"
  },
  "language_info": {
   "codemirror_mode": {
    "name": "ipython",
    "version": 3
   },
   "file_extension": ".py",
   "mimetype": "text/x-python",
   "name": "python",
   "nbconvert_exporter": "python",
   "pygments_lexer": "ipython3",
   "version": "3.7.0b5"
  }
 },
 "nbformat": 4,
 "nbformat_minor": 2
}
